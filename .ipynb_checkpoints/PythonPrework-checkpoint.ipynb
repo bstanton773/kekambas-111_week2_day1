{
 "cells": [
  {
   "cell_type": "code",
   "execution_count": null,
   "id": "23164bb0",
   "metadata": {},
   "outputs": [],
   "source": [
    "print(name)"
   ]
  },
  {
   "cell_type": "code",
   "execution_count": null,
   "id": "1c4c203b",
   "metadata": {
    "scrolled": true
   },
   "outputs": [],
   "source": [
    "for i in range(100):\n",
    "    print(i)"
   ]
  },
  {
   "cell_type": "code",
   "execution_count": null,
   "id": "f24c50cf",
   "metadata": {},
   "outputs": [],
   "source": [
    "def some_function(x):\n",
    "    return x**2\n",
    "\n",
    "\n",
    "print(some_function(20))"
   ]
  },
  {
   "cell_type": "code",
   "execution_count": null,
   "id": "cdf26a1e",
   "metadata": {},
   "outputs": [],
   "source": [
    "name = 'Brian Tanton'\n",
    "\n",
    "for letter in name:\n",
    "    if letter == letter.upper():\n",
    "        print(letter)\n",
    "    if letter == 'a':\n",
    "        print(letter.upper())"
   ]
  },
  {
   "cell_type": "code",
   "execution_count": null,
   "id": "7747db82",
   "metadata": {},
   "outputs": [],
   "source": [
    "!where python"
   ]
  },
  {
   "cell_type": "markdown",
   "id": "cf60e0d0",
   "metadata": {},
   "source": [
    "# Jupyter Notebook\n",
    "I will put *this* in *italics* and **this** is **bold**"
   ]
  },
  {
   "cell_type": "markdown",
   "id": "cc08a451",
   "metadata": {},
   "source": [
    "### Header 3"
   ]
  },
  {
   "cell_type": "code",
   "execution_count": null,
   "id": "a60dd27e",
   "metadata": {},
   "outputs": [],
   "source": []
  },
  {
   "cell_type": "code",
   "execution_count": null,
   "id": "e1b4a0b5",
   "metadata": {},
   "outputs": [],
   "source": [
    "# Hello this is a comment"
   ]
  },
  {
   "cell_type": "code",
   "execution_count": null,
   "id": "1afc24ce",
   "metadata": {},
   "outputs": [],
   "source": [
    "i = 0\n",
    "while i < 10:\n",
    "    print(i)"
   ]
  },
  {
   "cell_type": "code",
   "execution_count": null,
   "id": "af64dff3",
   "metadata": {},
   "outputs": [],
   "source": []
  },
  {
   "cell_type": "markdown",
   "id": "4a12da44",
   "metadata": {},
   "source": [
    "# Python Pre-Word"
   ]
  },
  {
   "cell_type": "markdown",
   "id": "7766a0c9",
   "metadata": {},
   "source": [
    "#### Question 1\n",
    "Write a function to print \"hello_USERNAME!\" USERNAME is the input of the function. The first line of the code has been defined as below."
   ]
  },
  {
   "cell_type": "code",
   "execution_count": 42,
   "id": "780b0286",
   "metadata": {},
   "outputs": [
    {
     "name": "stdout",
     "output_type": "stream",
     "text": [
      "hello_BRIANS!\n",
      "hello_BRIANS!\n"
     ]
    }
   ],
   "source": [
    "def hello_name(user_name):\n",
    "    print(f\"hello_{user_name.upper()}!\")\n",
    "    print(\"hello_\" + user_name.upper() + \"!\")\n",
    "\n",
    "\n",
    "hello_name('brians')"
   ]
  },
  {
   "cell_type": "code",
   "execution_count": 6,
   "id": "e4352b0f",
   "metadata": {},
   "outputs": [
    {
     "name": "stdout",
     "output_type": "stream",
     "text": [
      "hello_BSTANTON!\n",
      "hello_BSTANTON!\n"
     ]
    }
   ],
   "source": [
    "hello_name('bstanton')"
   ]
  },
  {
   "cell_type": "markdown",
   "id": "caaa115a",
   "metadata": {},
   "source": [
    "#### Question 2\n",
    "Write a python function, first_odds that prints the odd numbers from 1-100 and returns nothing"
   ]
  },
  {
   "cell_type": "code",
   "execution_count": 12,
   "id": "4f2d6805",
   "metadata": {
    "scrolled": true
   },
   "outputs": [
    {
     "name": "stdout",
     "output_type": "stream",
     "text": [
      "1\n",
      "3\n",
      "5\n",
      "7\n",
      "9\n",
      "11\n",
      "13\n",
      "15\n",
      "17\n",
      "19\n",
      "21\n",
      "23\n",
      "25\n",
      "27\n",
      "29\n",
      "31\n",
      "33\n",
      "35\n",
      "37\n",
      "39\n",
      "41\n",
      "43\n",
      "45\n",
      "47\n",
      "49\n",
      "51\n",
      "53\n",
      "55\n",
      "57\n",
      "59\n",
      "61\n",
      "63\n",
      "65\n",
      "67\n",
      "69\n",
      "71\n",
      "73\n",
      "75\n",
      "77\n",
      "79\n",
      "81\n",
      "83\n",
      "85\n",
      "87\n",
      "89\n",
      "91\n",
      "93\n",
      "95\n",
      "97\n",
      "99\n"
     ]
    }
   ],
   "source": [
    "def first_odds():\n",
    "    num = 1\n",
    "    while num < 101:\n",
    "        if num % 2 == 1:\n",
    "            print(num)\n",
    "        num = num + 1\n",
    "\n",
    "\n",
    "first_odds()"
   ]
  },
  {
   "cell_type": "code",
   "execution_count": 15,
   "id": "bcfd5be3",
   "metadata": {
    "scrolled": true
   },
   "outputs": [
    {
     "name": "stdout",
     "output_type": "stream",
     "text": [
      "1\n",
      "3\n",
      "5\n",
      "7\n",
      "9\n",
      "11\n",
      "13\n",
      "15\n",
      "17\n",
      "19\n",
      "21\n",
      "23\n",
      "25\n",
      "27\n",
      "29\n",
      "31\n",
      "33\n",
      "35\n",
      "37\n",
      "39\n",
      "41\n",
      "43\n",
      "45\n",
      "47\n",
      "49\n",
      "51\n",
      "53\n",
      "55\n",
      "57\n",
      "59\n",
      "61\n",
      "63\n",
      "65\n",
      "67\n",
      "69\n",
      "71\n",
      "73\n",
      "75\n",
      "77\n",
      "79\n",
      "81\n",
      "83\n",
      "85\n",
      "87\n",
      "89\n",
      "91\n",
      "93\n",
      "95\n",
      "97\n",
      "99\n"
     ]
    }
   ],
   "source": [
    "def first_odds_again():\n",
    "    for x in range(1,100,2):\n",
    "        print(x)\n",
    "        \n",
    "        \n",
    "first_odds_again()"
   ]
  },
  {
   "cell_type": "markdown",
   "id": "e0745d06",
   "metadata": {},
   "source": [
    "#### Question 3\n",
    "Please write a Python function, max_num_in_list to return the max number of a given list. The first line of the code has been defined as below."
   ]
  },
  {
   "cell_type": "code",
   "execution_count": 26,
   "id": "8c1d1df9",
   "metadata": {
    "scrolled": false
   },
   "outputs": [
    {
     "data": {
      "text/plain": [
       "9"
      ]
     },
     "execution_count": 26,
     "metadata": {},
     "output_type": "execute_result"
    }
   ],
   "source": [
    "def max_num_in_list(a_list):\n",
    "    return max(a_list)\n",
    "\n",
    "max_num_in_list([2, 7, 3, 5, 7, 2, 9, 6])"
   ]
  },
  {
   "cell_type": "code",
   "execution_count": 30,
   "id": "82fde0d2",
   "metadata": {},
   "outputs": [
    {
     "name": "stdout",
     "output_type": "stream",
     "text": [
      "9\n"
     ]
    }
   ],
   "source": [
    "def max_num_in_list(a_list):\n",
    "    current_max = a_list[0]\n",
    "    for element in a_list:\n",
    "        if element > current_max:\n",
    "            current_max = element\n",
    "    print(current_max)\n",
    "\n",
    "    \n",
    "max_num_in_list([2, 7, 3, 5, 7, 2, 9, 6])"
   ]
  },
  {
   "cell_type": "code",
   "execution_count": 31,
   "id": "d80f28cd",
   "metadata": {},
   "outputs": [
    {
     "name": "stdout",
     "output_type": "stream",
     "text": [
      "9\n"
     ]
    }
   ],
   "source": [
    "def max_num_in_list(a_list):\n",
    "    index = 0\n",
    "    current_max = a_list[index]\n",
    "    while index < len(a_list):\n",
    "        element = a_list[index]\n",
    "        if element > current_max:\n",
    "            current_max = element\n",
    "        index += 1\n",
    "    print(current_max)\n",
    "\n",
    "    \n",
    "max_num_in_list([2, 7, 3, 5, 7, 2, 9, 6])"
   ]
  },
  {
   "cell_type": "markdown",
   "id": "3ce104be",
   "metadata": {},
   "source": [
    "#### Question 4\n",
    "Write a function to return if the given year is a leap year. A leap year is divisible by 4, but not divisible by 100, unless it is also divisible by 400. The return should be boolean Type (true/false)."
   ]
  },
  {
   "cell_type": "code",
   "execution_count": 35,
   "id": "0f69374b",
   "metadata": {},
   "outputs": [
    {
     "name": "stdout",
     "output_type": "stream",
     "text": [
      "False\n",
      "True\n",
      "True\n",
      "False\n"
     ]
    }
   ],
   "source": [
    "# AND - BOTH NEED TO BE TRUE\n",
    "def is_leap_year(year):\n",
    "    if year % 4 == 0 and year % 100 != 0:\n",
    "        return True\n",
    "    elif year % 400 == 0:\n",
    "        return True\n",
    "    else:\n",
    "        return False\n",
    "    \n",
    "print(is_leap_year(2023))\n",
    "print(is_leap_year(2024))\n",
    "print(is_leap_year(2000))\n",
    "print(is_leap_year(2100))"
   ]
  },
  {
   "cell_type": "code",
   "execution_count": 36,
   "id": "724eafa3",
   "metadata": {
    "scrolled": true
   },
   "outputs": [
    {
     "name": "stdout",
     "output_type": "stream",
     "text": [
      "What year would you like to check? 2000\n",
      "2000 is a leap year\n",
      "Enter another year or type \"quit\" to quit2100\n",
      "2100 is not a leap year.\n",
      "Enter another year or type \"quit\" to quit2023\n",
      "2023 is not a leap year.\n",
      "Enter another year or type \"quit\" to quit32764\n",
      "32764 is a leap year\n",
      "Enter another year or type \"quit\" to quitquit\n"
     ]
    }
   ],
   "source": [
    "def run():\n",
    "    year = input('What year would you like to check? ')\n",
    "    while year != 'quit':\n",
    "        if is_leap_year(int(year)):\n",
    "            print(f\"{year} is a leap year\")\n",
    "        else:\n",
    "            print(f\"{year} is not a leap year.\")\n",
    "            \n",
    "        year = input('Enter another year or type \"quit\" to quit')\n",
    "        \n",
    "        \n",
    "        \n",
    "run()"
   ]
  },
  {
   "cell_type": "code",
   "execution_count": 40,
   "id": "2b0325c2",
   "metadata": {},
   "outputs": [
    {
     "name": "stdout",
     "output_type": "stream",
     "text": [
      "True\n",
      "False\n"
     ]
    }
   ],
   "source": [
    "def is_leap_year(year):\n",
    "    return (year % 4 == 0 and year % 100 != 0) or (year % 400 == 0)\n",
    "    \n",
    "    \n",
    "print(is_leap_year(2000))\n",
    "print(is_leap_year(2100))"
   ]
  },
  {
   "cell_type": "code",
   "execution_count": null,
   "id": "e75a25a2",
   "metadata": {},
   "outputs": [],
   "source": [
    "num = [x if y else z for k in range(len(r)) if z + k == t]\n",
    "\n",
    "for k in range(len(r)):\n",
    "    if z + k == t:\n",
    "        if y:\n",
    "            nums.append(x)\n",
    "        else:\n",
    "            nums.append(z)\n",
    "            \n"
   ]
  },
  {
   "cell_type": "markdown",
   "id": "516a82e2",
   "metadata": {},
   "source": [
    "#### Question 5\n",
    "Write a function to check to see if all numbers in list are consecutive numbers. For example, [2,3,4,5,6,7] are consecutive numbers, but [1,2,4,5] are not consecutive numbers. The return should be boolean Type."
   ]
  },
  {
   "cell_type": "code",
   "execution_count": 60,
   "id": "013e61b5",
   "metadata": {
    "scrolled": false
   },
   "outputs": [
    {
     "data": {
      "text/plain": [
       "True"
      ]
     },
     "execution_count": 60,
     "metadata": {},
     "output_type": "execute_result"
    }
   ],
   "source": [
    "def is_consecutive(a_list):\n",
    "    # Loop through the list from the 0 index to the second to last index\n",
    "    for idx in range(len(a_list) - 1):\n",
    "        # Get the value at the index\n",
    "        value = a_list[idx]\n",
    "        # Get the value of the element directly to the right of our element\n",
    "        value_to_right = a_list[idx + 1]\n",
    "        # If our element plus one does not equal the value to its right\n",
    "        if value + 1 != value_to_right:\n",
    "            # We know our list is not consecutive, so return False\n",
    "            return False\n",
    "    # Lined up with for loop (run after loop is finished), if all values to the right are one greater, then list is consecutive\n",
    "    return True\n",
    "        \n",
    "        \n",
    "\n",
    "my_list = [2,3,4,5,6,7]\n",
    "is_consecutive(my_list)"
   ]
  },
  {
   "cell_type": "code",
   "execution_count": 61,
   "id": "3cfb47b9",
   "metadata": {},
   "outputs": [
    {
     "data": {
      "text/plain": [
       "False"
      ]
     },
     "execution_count": 61,
     "metadata": {},
     "output_type": "execute_result"
    }
   ],
   "source": [
    "is_consecutive([1,2,4,5])"
   ]
  },
  {
   "cell_type": "code",
   "execution_count": null,
   "id": "b9fd198e",
   "metadata": {},
   "outputs": [],
   "source": []
  }
 ],
 "metadata": {
  "kernelspec": {
   "display_name": "Python 3 (ipykernel)",
   "language": "python",
   "name": "python3"
  },
  "language_info": {
   "codemirror_mode": {
    "name": "ipython",
    "version": 3
   },
   "file_extension": ".py",
   "mimetype": "text/x-python",
   "name": "python",
   "nbconvert_exporter": "python",
   "pygments_lexer": "ipython3",
   "version": "3.9.13"
  }
 },
 "nbformat": 4,
 "nbformat_minor": 5
}
